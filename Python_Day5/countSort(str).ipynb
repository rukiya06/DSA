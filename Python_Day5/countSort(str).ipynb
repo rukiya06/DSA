{
 "cells": [
  {
   "cell_type": "code",
   "execution_count": 5,
   "id": "3067c8dc-137d-4d08-8077-fe21c602f71d",
   "metadata": {},
   "outputs": [
    {
     "name": "stdin",
     "output_type": "stream",
     "text": [
      "Enter a single word miissisippi\n"
     ]
    },
    {
     "name": "stdout",
     "output_type": "stream",
     "text": [
      "Original string: miissisippi\n",
      "Sorted string: iiiiimppsss\n"
     ]
    }
   ],
   "source": [
    "def csortString(s):\n",
    "    count=[0]*26\n",
    "    for char in s:\n",
    "        count[ord(char)-ord('a')]+=1\n",
    "    sorted_str=''\n",
    "    for i in range(26):\n",
    "        sorted_str+= chr(i+ord('a'))*count[i]\n",
    "    return sorted_str\n",
    "name=input(\"Enter a single word\")\n",
    "sorted_name=csortString(name)\n",
    "print(\"Original string:\",name)\n",
    "print(\"Sorted string:\",sorted_name)"
   ]
  },
  {
   "cell_type": "code",
   "execution_count": null,
   "id": "c2ddacb9-9ea3-4b28-82c6-874ddaa7af7d",
   "metadata": {},
   "outputs": [],
   "source": []
  },
  {
   "cell_type": "code",
   "execution_count": null,
   "id": "f190a10d-292a-4aac-8f5e-a7e9b95a61c0",
   "metadata": {},
   "outputs": [],
   "source": []
  }
 ],
 "metadata": {
  "kernelspec": {
   "display_name": "Python 3 (ipykernel)",
   "language": "python",
   "name": "python3"
  },
  "language_info": {
   "codemirror_mode": {
    "name": "ipython",
    "version": 3
   },
   "file_extension": ".py",
   "mimetype": "text/x-python",
   "name": "python",
   "nbconvert_exporter": "python",
   "pygments_lexer": "ipython3",
   "version": "3.12.7"
  }
 },
 "nbformat": 4,
 "nbformat_minor": 5
}

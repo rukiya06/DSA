{
 "cells": [
  {
   "cell_type": "code",
   "execution_count": null,
   "id": "4151d0a9-a3b6-427f-85f6-9d3ab02198dc",
   "metadata": {},
   "outputs": [],
   "source": [
    "\"\"\"Algo:\n",
    "1. find the maximum number to determine number of digits\n",
    "2. sect 10^0, for digit position\n",
    "3. increment digit position, w.r.t pass\n",
    "4. loop -> maxnum//exp>0\n",
    "perform count sort based on current digit\n",
    "(num//exp)%10\n",
    "multiply exp by 10\n",
    "\"\"\"\n",
    "\n",
    "#Radix sort is also called as bucket sort"
   ]
  },
  {
   "cell_type": "code",
   "execution_count": 3,
   "id": "89223a17-663b-412e-808a-74b098aaa572",
   "metadata": {},
   "outputs": [
    {
     "name": "stdout",
     "output_type": "stream",
     "text": [
      "Before sort [170, 45, 75, 90, 802, 24, 2, 66]\n",
      "After sort [2, 24, 45, 66, 75, 90, 170, 802]\n"
     ]
    }
   ],
   "source": [
    "def count_sort(arr,exp):\n",
    "    n=len(arr)\n",
    "    output=[0]*n\n",
    "    count=[0]*10  #0->9 empty buckets for count of digits\n",
    "    for i in range(n): # frequencies of units position of numbers\n",
    "        index=(arr[i]//exp)%10\n",
    "        count[index]+=1\n",
    "    for i in range(1,10):\n",
    "        count[i]+=count[i-1]\n",
    "    i=n-1\n",
    "    while i>=0:\n",
    "        index=(arr[i]//exp)%10\n",
    "        output[count[index]-1]=arr[i]\n",
    "        count[index]-=1\n",
    "        i-=1\n",
    "    for i in range(n):\n",
    "        arr[i]=output[i]\n",
    "def radix_sort(arr):\n",
    "    max_num=max(arr)\n",
    "    exp=1\n",
    "    while max_num//exp>0:\n",
    "        count_sort(arr,exp)\n",
    "        exp*=10\n",
    "    \n",
    "arr=[170,45,75,90,802,24,2,66]\n",
    "print(\"Before sort\",arr)\n",
    "radix_sort(arr)\n",
    "print(\"After sort\",arr)"
   ]
  },
  {
   "cell_type": "code",
   "execution_count": null,
   "id": "9371c4eb-f690-48e4-99a5-8960be0cb767",
   "metadata": {},
   "outputs": [],
   "source": []
  }
 ],
 "metadata": {
  "kernelspec": {
   "display_name": "Python 3 (ipykernel)",
   "language": "python",
   "name": "python3"
  },
  "language_info": {
   "codemirror_mode": {
    "name": "ipython",
    "version": 3
   },
   "file_extension": ".py",
   "mimetype": "text/x-python",
   "name": "python",
   "nbconvert_exporter": "python",
   "pygments_lexer": "ipython3",
   "version": "3.12.7"
  }
 },
 "nbformat": 4,
 "nbformat_minor": 5
}

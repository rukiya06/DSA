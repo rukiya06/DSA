{
 "cells": [
  {
   "cell_type": "code",
   "execution_count": 17,
   "id": "2a742c79-0aeb-44e2-9210-cddbfcd59379",
   "metadata": {},
   "outputs": [
    {
     "name": "stdout",
     "output_type": "stream",
     "text": [
      "Before: [4, 2, 2, 8, 3, 3, 1]\n",
      "After: [1, 2, 2, 3, 3, 4, 8]\n"
     ]
    }
   ],
   "source": [
    "def csort(arr):\n",
    "    if not arr:\n",
    "        return []\n",
    "    max_val=max(arr)\n",
    "    count=[0]*(max_val+1)\n",
    "    #freq\n",
    "    for num in arr:\n",
    "        count[num]+=1\n",
    "    #count\n",
    "    for i in range(1,len(count)):\n",
    "        count[i]+=count[i-1]\n",
    "    output=[0]*len(arr)\n",
    "    #stable sort\n",
    "    for num in reversed(arr):\n",
    "        output[count[num]-1]=num\n",
    "        count[num]-=1\n",
    "    #coping sorted list\n",
    "    for i in range(len(arr)):\n",
    "        arr[i]=output[i]\n",
    "arr=[4,2,2,8,3,3,1]\n",
    "print(\"Before:\",arr)\n",
    "csort(arr)\n",
    "print(\"After:\",arr)"
   ]
  },
  {
   "cell_type": "code",
   "execution_count": null,
   "id": "fcfc3a87-fa47-498f-9bec-78f5a668d608",
   "metadata": {},
   "outputs": [],
   "source": []
  },
  {
   "cell_type": "code",
   "execution_count": null,
   "id": "4f44d990-3ac0-4b07-af7c-d8b24a5f0e6b",
   "metadata": {},
   "outputs": [],
   "source": []
  }
 ],
 "metadata": {
  "kernelspec": {
   "display_name": "Python 3 (ipykernel)",
   "language": "python",
   "name": "python3"
  },
  "language_info": {
   "codemirror_mode": {
    "name": "ipython",
    "version": 3
   },
   "file_extension": ".py",
   "mimetype": "text/x-python",
   "name": "python",
   "nbconvert_exporter": "python",
   "pygments_lexer": "ipython3",
   "version": "3.12.7"
  }
 },
 "nbformat": 4,
 "nbformat_minor": 5
}

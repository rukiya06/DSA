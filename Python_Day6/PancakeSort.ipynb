{
 "cells": [
  {
   "cell_type": "code",
   "execution_count": 5,
   "id": "d17c563d-f429-43af-a6c1-04c9e720025e",
   "metadata": {},
   "outputs": [
    {
     "name": "stdin",
     "output_type": "stream",
     "text": [
      "enter number seperated with space: 8 2 7 5 1 3 9\n"
     ]
    },
    {
     "name": "stdout",
     "output_type": "stream",
     "text": [
      "Flip at6:[3, 1, 5, 7, 2, 8, 9]\n",
      "Flip at 4:[7, 5, 1, 3, 2, 8, 9]\n",
      "Flip at5:[2, 3, 1, 5, 7, 8, 9]\n",
      "Flip at 2:[3, 2, 1, 5, 7, 8, 9]\n",
      "Flip at3:[1, 2, 3, 5, 7, 8, 9]\n",
      "Sorted [1, 2, 3, 5, 7, 8, 9]\n"
     ]
    }
   ],
   "source": [
    "def flip(arr,k):\n",
    "    return arr[:k+1][::-1]+arr[k+1:]\n",
    "def pancake(arr):\n",
    "    n=len(arr)\n",
    "    for size in range(n,1,-1):\n",
    "        max_index=arr.index(max(arr[:size]))\n",
    "        if max_index!=size-1:\n",
    "            if max_index!=0:\n",
    "                arr=flip(arr,max_index)\n",
    "                print(f\"Flip at {max_index+1}:{arr}\")\n",
    "            arr=flip(arr,size-1)\n",
    "            print(f\"Flip at{size}:{arr}\")\n",
    "    return arr\n",
    "nums=list(map(int,input(\"enter number seperated with space:\").split()))\n",
    "sorted_nums=pancake(nums)\n",
    "print(\"Sorted\",sorted_nums)"
   ]
  },
  {
   "cell_type": "code",
   "execution_count": null,
   "id": "76dabf71-4a09-4d65-b74e-6b092b628670",
   "metadata": {},
   "outputs": [],
   "source": []
  }
 ],
 "metadata": {
  "kernelspec": {
   "display_name": "Python 3 (ipykernel)",
   "language": "python",
   "name": "python3"
  },
  "language_info": {
   "codemirror_mode": {
    "name": "ipython",
    "version": 3
   },
   "file_extension": ".py",
   "mimetype": "text/x-python",
   "name": "python",
   "nbconvert_exporter": "python",
   "pygments_lexer": "ipython3",
   "version": "3.12.7"
  }
 },
 "nbformat": 4,
 "nbformat_minor": 5
}

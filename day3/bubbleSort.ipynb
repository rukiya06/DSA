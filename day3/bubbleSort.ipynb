{
 "cells": [
  {
   "cell_type": "code",
   "execution_count": 11,
   "id": "7082fa5b-4e0a-4f8d-bcf1-12b3517aa938",
   "metadata": {},
   "outputs": [
    {
     "name": "stdin",
     "output_type": "stream",
     "text": [
      "Enter the number of elements: 5\n"
     ]
    },
    {
     "name": "stdout",
     "output_type": "stream",
     "text": [
      "Enter the elements:\n"
     ]
    },
    {
     "name": "stdin",
     "output_type": "stream",
     "text": [
      " 5\n",
      " 20\n",
      " 15\n",
      " 10\n",
      " 12\n"
     ]
    },
    {
     "name": "stdout",
     "output_type": "stream",
     "text": [
      "Original list: [5, 20, 15, 10, 12]\n",
      "BubbleSorted : [5, 10, 12, 15, 20]\n"
     ]
    }
   ],
   "source": [
    "\"\"\"Algo:\n",
    "1. Start from the begiunning of the array/list\n",
    "2. compare each pair to adjacent number \n",
    "3. if latest element is greater than adjacent --> perform swap\n",
    "4. repeat the process till n-1. \n",
    "5. after each cycle ,largest unsorted element is would be in correct position.\n",
    "6. repeat pass till all the elements are sorted.\n",
    "pseudo: \n",
    "for i->0 to n-1:\n",
    "for j->0 to n-i-2:\n",
    "if a[j]>a[j+1]\n",
    "swap(a[j],a[j+1])\"\"\"\n",
    "\n",
    "\n",
    "def bubble_sort(arr):\n",
    "    n=len(arr)\n",
    "    for i in range(n):\n",
    "        for j in range(0,n-i-1):\n",
    "            if arr[j]>arr[j+1]:\n",
    "                arr[j],arr[j+1]=arr[j+1],arr[j]\n",
    "size=int(input(\"Enter the number of elements:\"))\n",
    "arr=[]\n",
    "print(\"Enter the elements:\")\n",
    "for _ in range(size):\n",
    "    arr.append(int(input()))\n",
    "print(\"Original list:\",arr)\n",
    "bubble_sort(arr)\n",
    "print(\"BubbleSorted :\", arr)"
   ]
  },
  {
   "cell_type": "code",
   "execution_count": null,
   "id": "a340819d-15a7-484b-a94e-5ee59fd12ef0",
   "metadata": {},
   "outputs": [],
   "source": []
  }
 ],
 "metadata": {
  "kernelspec": {
   "display_name": "Python 3 (ipykernel)",
   "language": "python",
   "name": "python3"
  },
  "language_info": {
   "codemirror_mode": {
    "name": "ipython",
    "version": 3
   },
   "file_extension": ".py",
   "mimetype": "text/x-python",
   "name": "python",
   "nbconvert_exporter": "python",
   "pygments_lexer": "ipython3",
   "version": "3.12.7"
  }
 },
 "nbformat": 4,
 "nbformat_minor": 5
}

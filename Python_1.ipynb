{
 "cells": [
  {
   "cell_type": "code",
   "execution_count": 15,
   "id": "8783cd5f-4816-4324-9696-3c4cb0ca4c94",
   "metadata": {},
   "outputs": [
    {
     "name": "stdout",
     "output_type": "stream",
     "text": [
      "10 20 25 30 40 50 10 20 25 40 \n",
      " 25 in array? True\n"
     ]
    }
   ],
   "source": [
    "#Array Operations\n",
    "\"\"\"program to consider a list arr=[10,20,30,40] and perform insert operation and delete operation \n",
    "with 50 and 25 at position 2 respectively, delete 30 and traverse the array to fetch an element 25 is prresent or not\"\"\"\n",
    "\n",
    "arr=[10,20,30,40]\n",
    "#insert \n",
    "arr.append(50)\n",
    "arr.insert(2,25)\n",
    "#print(arr)\n",
    "for i in arr:\n",
    "    print(i,end=\" \")\n",
    "#deletion\n",
    "arr.remove(30)\n",
    "arr.pop()\n",
    "#print(arr)\n",
    "#traversal\n",
    "for i in arr:\n",
    "    print(i,end=\" \")\n",
    "#searching\n",
    "print(\"\\n 25 in array?\", 25 in arr)\n",
    "    "
   ]
  },
  {
   "cell_type": "code",
   "execution_count": 3,
   "id": "841f72d7-564b-476a-9878-ff235bfbcee4",
   "metadata": {},
   "outputs": [
    {
     "name": "stdin",
     "output_type": "stream",
     "text": [
      "Enter palindromic string: hello\n"
     ]
    },
    {
     "name": "stdout",
     "output_type": "stream",
     "text": [
      "not palindrome\n",
      "{'h': 1, 'e': 1, 'l': 2, 'o': 1}\n"
     ]
    }
   ],
   "source": [
    "\"\"\" program tyocheck whether the givenb string is palindrome or not\n",
    "and count the palindromic characters which are repeated\n",
    "str=\"madam\"\n",
    "output:{'m':2,'a':2,'d':1}\n",
    "str=\"malayalam\"\n",
    "\"\"\"\n",
    "text=input(\"Enter palindromic string:\")\n",
    "if text==text[::-1]:\n",
    "    print(\"Palindorme\")\n",
    "else:\n",
    "    print(\"not palindrome\")\n",
    "count={}\n",
    "for i in text:\n",
    "    count[i]=count.get(i,0)+1 # get() method is used here to retrieve the value associatyed with the key.\n",
    "print(count)"
   ]
  },
  {
   "cell_type": "code",
   "execution_count": 3,
   "id": "6b668b01-b30a-4dda-a3ec-0d5ec2ca29ac",
   "metadata": {},
   "outputs": [
    {
     "name": "stdin",
     "output_type": "stream",
     "text": [
      "Enter the size of array 3\n"
     ]
    },
    {
     "name": "stdout",
     "output_type": "stream",
     "text": [
      "enter elements\n"
     ]
    },
    {
     "name": "stdin",
     "output_type": "stream",
     "text": [
      "Element m1: 10 \n",
      "Element m2: 20\n",
      "Element m3: 30\n",
      "Enter the element to search: 20\n"
     ]
    },
    {
     "name": "stdout",
     "output_type": "stream",
     "text": [
      "Element 20 found at 1\n"
     ]
    }
   ],
   "source": [
    "#program for linear Search\n",
    "def linear_search(arr,key):\n",
    "    for i in range(len(arr)):\n",
    "        if arr[i]==key:\n",
    "            return i\n",
    "    return -1\n",
    "size=int(input(\"Enter the size of array\"))\n",
    "arr=[]\n",
    "print(\"enter elements\")\n",
    "for i in range(size):\n",
    "    num=int(input(f\"Element m{i+1}:\"))\n",
    "    arr.append(num)\n",
    "key=int(input(\"Enter the element to search:\"))\n",
    "result=linear_search(arr,key)\n",
    "if result !=-1:\n",
    "    print(f\"Element {key} found at {result}\")\n",
    "else:\n",
    "    print(f\"Element {key} not found in array\")\n",
    "    \n",
    "            "
   ]
  },
  {
   "cell_type": "code",
   "execution_count": null,
   "id": "db8c28f0-7873-42d2-b972-ebda0e9c85da",
   "metadata": {},
   "outputs": [],
   "source": []
  }
 ],
 "metadata": {
  "kernelspec": {
   "display_name": "Python 3 (ipykernel)",
   "language": "python",
   "name": "python3"
  },
  "language_info": {
   "codemirror_mode": {
    "name": "ipython",
    "version": 3
   },
   "file_extension": ".py",
   "mimetype": "text/x-python",
   "name": "python",
   "nbconvert_exporter": "python",
   "pygments_lexer": "ipython3",
   "version": "3.12.7"
  }
 },
 "nbformat": 4,
 "nbformat_minor": 5
}

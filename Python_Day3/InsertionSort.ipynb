{
 "cells": [
  {
   "cell_type": "code",
   "execution_count": null,
   "id": "902e01e6-e580-434b-9eee-22da2485a020",
   "metadata": {},
   "outputs": [],
   "source": [
    "\"\"\"Algo:\n",
    "1. start from the second element(i=1)\n",
    "2. previous index valued element check whether it is greater or not\n",
    "3. shift larger element one portion\n",
    "4. insert the currenrt element in the correct position\n",
    "5. repeat till array is sorted.\n",
    "\n",
    "Pseudo:\n",
    "for i-->1 to n-1\n",
    "  key=arr[i]\n",
    "  j=i-1\n",
    "  while j>=0 and arr[j]>key\n",
    "       arr[j+1]=arr[j]\n",
    "       j-=1\n",
    "  arr[j+1]=key\n",
    "\"\"\"\n"
   ]
  },
  {
   "cell_type": "code",
   "execution_count": 5,
   "id": "428d6d30-038a-4238-bed0-1515bfc68fef",
   "metadata": {},
   "outputs": [
    {
     "name": "stdin",
     "output_type": "stream",
     "text": [
      "enter the no of elements: 4\n"
     ]
    },
    {
     "name": "stdout",
     "output_type": "stream",
     "text": [
      "Enter 4 elements:\n"
     ]
    },
    {
     "name": "stdin",
     "output_type": "stream",
     "text": [
      " 9\n",
      " 6\n",
      " 4\n",
      " 5\n"
     ]
    },
    {
     "name": "stdout",
     "output_type": "stream",
     "text": [
      "Sorted array [4, 5, 6, 9]\n"
     ]
    }
   ],
   "source": [
    "def insertion_sort(arr):\n",
    "    for i in range(1,len(arr)):\n",
    "        key=arr[i]\n",
    "        j=i-1\n",
    "        while j>=0 and arr[j]>key:\n",
    "            arr[j+1]=arr[j]\n",
    "            j-=1\n",
    "        arr[j+1]=key\n",
    "    return arr\n",
    "size=int(input(\"enter the no of elements:\"))\n",
    "arr=[]\n",
    "print(\"Enter\", size, \"elements:\")\n",
    "for _ in range(size):\n",
    "    num=int(input())\n",
    "    arr.append(num)\n",
    "result=insertion_sort(arr)\n",
    "print(\"Sorted array\",result)"
   ]
  },
  {
   "cell_type": "code",
   "execution_count": 11,
   "id": "372f59a8-d318-4ba6-88df-1debfd6da4f2",
   "metadata": {},
   "outputs": [
    {
     "name": "stdin",
     "output_type": "stream",
     "text": [
      "enter string AAppLe\n"
     ]
    },
    {
     "name": "stdout",
     "output_type": "stream",
     "text": [
      "Sorted array AALepp\n"
     ]
    }
   ],
   "source": [
    "#Insertion sort on word to sort the order of letters\n",
    "def insertion_sort(arr):\n",
    "    for i in range(1,len(arr)):\n",
    "        key=arr[i]\n",
    "        j=i-1\n",
    "        while j>=0 and arr[j]>key:\n",
    "            arr[j+1]=arr[j]\n",
    "            j-=1\n",
    "        arr[j+1]=key\n",
    "    return arr\n",
    "name=input('enter string')\n",
    "ch=list(name)\n",
    "sort_chars=insertion_sort(ch)\n",
    "print(\"Sorted array\",''.join(ch))"
   ]
  },
  {
   "cell_type": "code",
   "execution_count": null,
   "id": "d12913cd-5894-490a-8438-1dd64074b7ca",
   "metadata": {},
   "outputs": [],
   "source": []
  }
 ],
 "metadata": {
  "kernelspec": {
   "display_name": "Python 3 (ipykernel)",
   "language": "python",
   "name": "python3"
  },
  "language_info": {
   "codemirror_mode": {
    "name": "ipython",
    "version": 3
   },
   "file_extension": ".py",
   "mimetype": "text/x-python",
   "name": "python",
   "nbconvert_exporter": "python",
   "pygments_lexer": "ipython3",
   "version": "3.12.7"
  }
 },
 "nbformat": 4,
 "nbformat_minor": 5
}

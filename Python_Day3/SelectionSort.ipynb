{
 "cells": [
  {
   "cell_type": "code",
   "execution_count": null,
   "id": "29f5ac67-275b-4aeb-adf4-73ec99f333b9",
   "metadata": {},
   "outputs": [],
   "source": [
    "\"\"\"Algo:\n",
    "1. start from the first element in the list\n",
    "2. arr[0]=min\n",
    "3. compare with all the remaining elements to find the real lowest element.\n",
    "4. perform swapping with current position\n",
    "5. repeat the same with adding positional values for each min check\n",
    "\n",
    "Pseudo:\n",
    "for i-->0 to n-1:\n",
    "   min=i\n",
    "   for j-->i+1 to n:\n",
    "       if arr[j]<arr[min]:\n",
    "          swap\n",
    "min=i+1\n",
    "\"\"\""
   ]
  },
  {
   "cell_type": "code",
   "execution_count": 5,
   "id": "d8bf938b-bd9d-4b8e-8b5b-a597de4d0145",
   "metadata": {},
   "outputs": [
    {
     "name": "stdin",
     "output_type": "stream",
     "text": [
      "enter the no of elements: 4\n"
     ]
    },
    {
     "name": "stdout",
     "output_type": "stream",
     "text": [
      "Enter 4 elements:\n"
     ]
    },
    {
     "name": "stdin",
     "output_type": "stream",
     "text": [
      " 15\n",
      " 10\n",
      " 9\n",
      " 5\n"
     ]
    },
    {
     "name": "stdout",
     "output_type": "stream",
     "text": [
      "Sorted array [5, 9, 10, 15]\n"
     ]
    }
   ],
   "source": [
    "def selection_sort(arr):\n",
    "    n=len(arr)\n",
    "    for i in range(n):\n",
    "        min_index=i\n",
    "        for j in range(i+1,n):\n",
    "            if arr[j]<arr[min_index]:\n",
    "                min_index=j\n",
    "        arr[i],arr[min_index]=arr[min_index],arr[i]\n",
    "    return arr\n",
    "size=int(input(\"enter the no of elements:\"))\n",
    "arr=[]\n",
    "print(\"Enter\", size, \"elements:\")\n",
    "for _ in range(size):\n",
    "    num=int(input())\n",
    "    arr.append(num)\n",
    "result=selection_sort(arr)\n",
    "print(\"Sorted array\",result)"
   ]
  },
  {
   "cell_type": "code",
   "execution_count": null,
   "id": "db182df8-bc2a-4317-b8cd-ff38eb4098d9",
   "metadata": {},
   "outputs": [],
   "source": [
    "#selection sort in descending order\n",
    "def selection_sort(arr):\n",
    "    n=len(arr)\n",
    "    for i in range(n):\n",
    "        min_index=i\n",
    "        for j in range(i+1,n):\n",
    "            if arr[j]>arr[min_index]:\n",
    "                min_index=j\n",
    "        arr[i],arr[min_index]=arr[min_index],arr[i]\n",
    "    return arr\n",
    "size=int(input(\"enter the no of elements:\"))\n",
    "arr=[]\n",
    "print(\"Enter\", size, \"elements:\")\n",
    "for _ in range(size):\n",
    "    num=int(input())\n",
    "    arr.append(num)\n",
    "result=selection_sort(arr)\n",
    "print(\"Sorted array\",result)"
   ]
  }
 ],
 "metadata": {
  "kernelspec": {
   "display_name": "Python 3 (ipykernel)",
   "language": "python",
   "name": "python3"
  },
  "language_info": {
   "codemirror_mode": {
    "name": "ipython",
    "version": 3
   },
   "file_extension": ".py",
   "mimetype": "text/x-python",
   "name": "python",
   "nbconvert_exporter": "python",
   "pygments_lexer": "ipython3",
   "version": "3.12.7"
  }
 },
 "nbformat": 4,
 "nbformat_minor": 5
}

{
 "cells": [
  {
   "cell_type": "code",
   "execution_count": 7,
   "id": "ec868eee-8388-4482-b46a-afacbebdf181",
   "metadata": {},
   "outputs": [
    {
     "name": "stdout",
     "output_type": "stream",
     "text": [
      "element 10 found at indx:4\n"
     ]
    }
   ],
   "source": [
    "def fibsearch(arr,target):\n",
    "    if not arr:\n",
    "        return -1\n",
    "    n=len(arr) #initialize fib number\n",
    "    fib2=0\n",
    "    fib1=1\n",
    "    fib=fib1+fib2\n",
    "    while fib<n:\n",
    "        fib2=fib1\n",
    "        fib1=fib\n",
    "        fib=fib1+fib2\n",
    "    offset=-1 #initialize offset\n",
    "    while fib>1: #searching using f(0)----f(n)\n",
    "        i=min(offset +fib2,n-1)\n",
    "        if arr[i]==target:\n",
    "            return i\n",
    "        elif arr[i]<target:\n",
    "            offset=i\n",
    "            fib=fib1\n",
    "            fib1=fib2\n",
    "            fib2=fib-fib1\n",
    "        else:\n",
    "            fib=fib2\n",
    "            fib1=fib1-fib2\n",
    "            fib2=fib-fib1\n",
    "    if fib==1 and offset+1<n and arr[offset+1]==target:\n",
    "        return offset+1\n",
    "    return -1\n",
    "arr=[2,4,6,8,10,12]\n",
    "target=10\n",
    "result=fibsearch(arr,target)\n",
    "print(f\"element {target} found at indx:{result}\")\n",
    "\n",
    "    "
   ]
  },
  {
   "cell_type": "code",
   "execution_count": null,
   "id": "a8538f6f-c82c-435c-bf0e-a61ca7368043",
   "metadata": {},
   "outputs": [],
   "source": []
  }
 ],
 "metadata": {
  "kernelspec": {
   "display_name": "Python 3 (ipykernel)",
   "language": "python",
   "name": "python3"
  },
  "language_info": {
   "codemirror_mode": {
    "name": "ipython",
    "version": 3
   },
   "file_extension": ".py",
   "mimetype": "text/x-python",
   "name": "python",
   "nbconvert_exporter": "python",
   "pygments_lexer": "ipython3",
   "version": "3.12.7"
  }
 },
 "nbformat": 4,
 "nbformat_minor": 5
}

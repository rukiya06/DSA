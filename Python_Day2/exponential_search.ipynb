{
 "cells": [
  {
   "cell_type": "code",
   "execution_count": 1,
   "id": "099cbf25-0746-48cd-8b74-4e08451a48ee",
   "metadata": {},
   "outputs": [
    {
     "name": "stdout",
     "output_type": "stream",
     "text": [
      "Element 10 found at index:None\n"
     ]
    }
   ],
   "source": [
    "\"\"\" 1.sorted numbers searching\n",
    "2. check the array !=0\n",
    "3. check the first element\n",
    "4. find the range using expo while for boundary ientify within boundary\n",
    "5. range prform binary search\n",
    "6. return reult\"\"\"\n",
    "def bsearch_range(arr,target,left,right):\n",
    "    while left<=right:\n",
    "        mid=(left+right)//2\n",
    "        if arr[mid]==target:\n",
    "            return mid\n",
    "        elif arr[mid]<target:\n",
    "            left=mid+1\n",
    "        else:\n",
    "\n",
    "\n",
    "\n",
    "\n",
    "def expo_search(arr,target):\n",
    "    if not arr:\n",
    "        return -1\n",
    "    if arr[0]==target:\n",
    "        return 0\n",
    "    n=len(arr)\n",
    "    i=1\n",
    "    while i<n and arr[i]<=target:\n",
    "        i*=2\n",
    "    return bsearch_range(arr,target.i//2,min(i,n-1))\n",
    "arr=[2,4,6,8,10,12,14]\n",
    "target=10\n",
    "result=expo_search(arr,target)\n",
    "print(f\"Element {target} found at index:{result}\")"
   ]
  },
  {
   "cell_type": "code",
   "execution_count": null,
   "id": "6edff7c0-fb0d-4bc0-ae55-fc34b036097c",
   "metadata": {},
   "outputs": [],
   "source": []
  }
 ],
 "metadata": {
  "kernelspec": {
   "display_name": "Python 3 (ipykernel)",
   "language": "python",
   "name": "python3"
  },
  "language_info": {
   "codemirror_mode": {
    "name": "ipython",
    "version": 3
   },
   "file_extension": ".py",
   "mimetype": "text/x-python",
   "name": "python",
   "nbconvert_exporter": "python",
   "pygments_lexer": "ipython3",
   "version": "3.12.7"
  }
 },
 "nbformat": 4,
 "nbformat_minor": 5
}

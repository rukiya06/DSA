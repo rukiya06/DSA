{
 "cells": [
  {
   "cell_type": "code",
   "execution_count": 3,
   "id": "a4dc604f-ed18-4d6e-8503-9e914f36fcd1",
   "metadata": {},
   "outputs": [
    {
     "name": "stdout",
     "output_type": "stream",
     "text": [
      "Element 7 found at index: 3\n"
     ]
    }
   ],
   "source": [
    "#Jump Search\n",
    "import math\n",
    "def jump_search(arr,target):\n",
    "    if not arr:\n",
    "        return -1\n",
    "    n=len(arr)\n",
    "    step=int(math.sqrt(n))\n",
    "    prev=0\n",
    "    while prev <n and arr[prev]<target:\n",
    "        prev+=step\n",
    "    for i in range(max(0,prev-step),min(n,prev+1)):\n",
    "        if arr[i]==target:\n",
    "            return i\n",
    "    return -1\n",
    "arr=[1,3,5,7,8,9,11]\n",
    "target=7\n",
    "result=jump_search(arr,target)\n",
    "print(f\"Element {target} found at index: {result}\")"
   ]
  },
  {
   "cell_type": "code",
   "execution_count": null,
   "id": "951c66a1-9a7b-46e4-a251-f7bc6ca8a7d5",
   "metadata": {},
   "outputs": [],
   "source": []
  }
 ],
 "metadata": {
  "kernelspec": {
   "display_name": "Python 3 (ipykernel)",
   "language": "python",
   "name": "python3"
  },
  "language_info": {
   "codemirror_mode": {
    "name": "ipython",
    "version": 3
   },
   "file_extension": ".py",
   "mimetype": "text/x-python",
   "name": "python",
   "nbconvert_exporter": "python",
   "pygments_lexer": "ipython3",
   "version": "3.12.7"
  }
 },
 "nbformat": 4,
 "nbformat_minor": 5
}
